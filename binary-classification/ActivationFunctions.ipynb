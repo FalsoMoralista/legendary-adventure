{
 "cells": [
  {
   "cell_type": "code",
   "execution_count": 2,
   "metadata": {},
   "outputs": [],
   "source": [
    "import numpy as np\n",
    "\n",
    "# Linearly classified values\n",
    "def stepFunc(sum):\n",
    "    if(sum >= 1):\n",
    "        return 1\n",
    "    return 0\n",
    "\n",
    "# Sigmoid (1 / 1 + e^-x)\n",
    "def sigmoid(sum):\n",
    "        return 1/(1+np.exp(-sum))\n",
    "\n",
    "#Hiperbolic tangent(e^x - e^⁻x / e^x + e^-x)\n",
    "def tanh(sum):\n",
    "    return ((np.exp(sum) - np.exp(-sum))/(np.exp(sum)+np.exp(-sum)))\n",
    "\n",
    "# Shouldn't be used when you have too many negavite values \n",
    "def reLU(sum):\n",
    "    if (sum >= 0):\n",
    "        return sum\n",
    "    return 0\n",
    "\n",
    "# Softmax - Used in cases that you want the probability of the classes of an input \n",
    "def softmax(array):\n",
    "    ex = np.exp(array)\n",
    "    return ex / ex.sum()\n",
    "\n",
    "def linear(sum):\n",
    "    return sum"
   ]
  },
  {
   "cell_type": "code",
   "execution_count": 47,
   "metadata": {},
   "outputs": [
    {
     "name": "stdout",
     "output_type": "stream",
     "text": [
      "1\n",
      "0.8909031788043871\n",
      "0.9704519366134541\n",
      "2.1\n",
      "0.358\n",
      "[0.93065625 0.04633465 0.0230091 ]\n"
     ]
    }
   ],
   "source": [
    "teste = stepFunc(2.1)\n",
    "print(teste)\n",
    "\n",
    "teste = sigmoid(2.1)\n",
    "print(teste)\n",
    "\n",
    "teste = tanh(2.1)\n",
    "print(teste)\n",
    "\n",
    "teste = reLU(2.1)\n",
    "print(teste)\n",
    "\n",
    "teste = linear(0.358)\n",
    "print(teste)\n",
    "\n",
    "array = [5,2,1.3]\n",
    "teste = softmax(array)\n",
    "print(teste)"
   ]
  },
  {
   "cell_type": "code",
   "execution_count": 3,
   "metadata": {},
   "outputs": [
    {
     "name": "stdout",
     "output_type": "stream",
     "text": [
      "0.40588573188433286\n"
     ]
    }
   ],
   "source": [
    "teste = sigmoid(-0.381)\n",
    "print(teste)"
   ]
  },
  {
   "cell_type": "code",
   "execution_count": null,
   "metadata": {},
   "outputs": [],
   "source": []
  }
 ],
 "metadata": {
  "kernelspec": {
   "display_name": "Python 3",
   "language": "python",
   "name": "python3"
  },
  "language_info": {
   "codemirror_mode": {
    "name": "ipython",
    "version": 3
   },
   "file_extension": ".py",
   "mimetype": "text/x-python",
   "name": "python",
   "nbconvert_exporter": "python",
   "pygments_lexer": "ipython3",
   "version": "3.7.3"
  }
 },
 "nbformat": 4,
 "nbformat_minor": 2
}
