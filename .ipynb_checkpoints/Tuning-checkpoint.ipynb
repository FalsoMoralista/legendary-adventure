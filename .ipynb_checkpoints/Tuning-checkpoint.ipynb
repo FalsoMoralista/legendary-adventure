{
 "cells": [
  {
   "cell_type": "code",
   "execution_count": null,
   "metadata": {},
   "outputs": [],
   "source": [
    "import keras\n",
    "import pandas as pd\n",
    "from keras.models import Sequential\n",
    "from keras.layers import Dense, Dropout\n",
    "from keras.wrappers.scikit_learn import KerasClassifier\n",
    "from sklearn.model_selection import GridSearchCV\n",
    "\n",
    "predictors = pd.read_csv('/home/luciano/ic/lectures/breast_cancer/datasets/entradas-breast.csv')\n",
    "classes = pd.read_csv('/home/luciano/ic/lectures/breast_cancer/datasets/saidas-breast.csv')\n",
    "\n",
    "optmizer = keras.optimizers.adadelta(lr=1, rho=0.95,epsilon=None, decay=0.001) # Sets up a custom optimizer\n",
    "\n",
    "# Creates the neural network (DFF) based on the parametrized configuration\n",
    "def arise(optimizer, loss, kernel_initializer, activation, neurons):\n",
    "    classifier = Sequential()\n",
    "\n",
    "    classifier.add(Dense(units = neurons,# Adds the Input layer \n",
    "                         activation=activation, # Activation function\n",
    "                         kernel_initializer=kernel_initializer, \n",
    "                         input_dim=30))# Number of inputs     \n",
    "    \n",
    "    classifier.add(Dropout(0.25)) # Prevents overfitting through randomly setting a fraction rate of input units to 0        \n",
    "    \n",
    "    classifier.add(Dense(units = neurons,# \" \"  Hidden layer\n",
    "                         activation=activation, # \" \" \n",
    "                         kernel_initializer=kernel_initializer))         \n",
    "  \n",
    "    classifier.add(Dropout(0.25)) # Prevents overfitting through randomly setting a fraction rate of input units to 0 \n",
    "\n",
    "    classifier.add(Dense(units = 1, activation='sigmoid')) # \" \" Output layer\n",
    "    \n",
    "    classifier.compile(optimizer=optmizer, # Compiles with the loss function and the used metric\n",
    "                       loss=loss,metrics=['binary_accuracy']) \n",
    "    return classifier\n",
    "\n",
    "\n",
    "dff = KerasClassifier(build_fn=arise) # Initializes\n",
    "\n",
    "parameters = {\n",
    "        'batch_size': [4,10,30],\n",
    "        'epochs':  [100,120],\n",
    "        'optimizer': ['adam','adadelta'],\n",
    "        'loss': ['binary_crossentropy','hinge'],\n",
    "        'kernel_initializer': ['random_uniform', 'normal'],\n",
    "        'activation':['relu','tanh'],\n",
    "        'neurons': [20,12,6],\n",
    "        }\n",
    "\n",
    "grid_search = GridSearchCV(estimator=dff,\n",
    "                           param_grid= parameters,\n",
    "                           scoring='accuracy',\n",
    "                           cv=5)\n",
    "grid_search= grid_search.fit(predictors,classes)\n",
    "best_parameters=grid_search.best_params_\n",
    "best_accuracy= grid_search.best_score_\n",
    "\n",
    "print(best_parameters)\n",
    "print(best_accuracy)\n",
    "\n"
   ]
  },
  {
   "cell_type": "code",
   "execution_count": null,
   "metadata": {},
   "outputs": [],
   "source": []
  }
 ],
 "metadata": {
  "kernelspec": {
   "display_name": "Python 3",
   "language": "python",
   "name": "python3"
  },
  "language_info": {
   "codemirror_mode": {
    "name": "ipython",
    "version": 3
   },
   "file_extension": ".py",
   "mimetype": "text/x-python",
   "name": "python",
   "nbconvert_exporter": "python",
   "pygments_lexer": "ipython3",
   "version": "3.7.3"
  }
 },
 "nbformat": 4,
 "nbformat_minor": 2
}
